{
 "cells": [
  {
   "cell_type": "markdown",
   "metadata": {},
   "source": [
    "## Problem Statement"
   ]
  },
  {
   "cell_type": "markdown",
   "metadata": {},
   "source": [
    "***Q.1.1 Write a Python Program(with class concepts) to find the area of the triangle using the below\n",
    "formula.***\n",
    "\n",
    "area = (s*(s-a)*(s-b)*(s-c)) ** 0.5\n",
    "\n",
    "Function to take the length of the sides of triangle from user should be defined in the parent\n",
    "class and function to calculate the area should be defined in subclass."
   ]
  },
  {
   "cell_type": "code",
   "execution_count": 76,
   "metadata": {},
   "outputs": [],
   "source": [
    "class Parameters(object):\n",
    "    def __init__(self):\n",
    "        self.a = int(input('Enter the length of side1: '))\n",
    "        self.b = int(input('Enter the length of side2: '))\n",
    "        self.c = int(input('Enter the length of side3: '))\n",
    "        \n",
    "#     def get_a(self):\n",
    "#         return self.a\n",
    "    \n",
    "#     def get_b(self):\n",
    "#         return self.b\n",
    "    \n",
    "#     def get_c(self):\n",
    "#         return self.c\n",
    "\n",
    "class Area(Parameters):\n",
    "    import math\n",
    "    def __init__(self):\n",
    "        Parameters.__init__(self)\n",
    "        # super().__init__(a,b,c)\n",
    "    \n",
    "    def get_area(self):\n",
    "        s = (self.a + self.b + self.c)/2\n",
    "        area = math.sqrt(s*(s - self.a)*(s-self.b)*(s-self.c))       \n",
    "        return area"
   ]
  },
  {
   "cell_type": "code",
   "execution_count": 77,
   "metadata": {},
   "outputs": [
    {
     "name": "stdout",
     "output_type": "stream",
     "text": [
      "Enter the length of side1: 12\n",
      "Enter the length of side2: 13\n",
      "Enter the length of side3: 15\n"
     ]
    }
   ],
   "source": [
    "a1 = Area()"
   ]
  },
  {
   "cell_type": "code",
   "execution_count": 78,
   "metadata": {},
   "outputs": [
    {
     "data": {
      "text/plain": [
       "74.83314773547883"
      ]
     },
     "execution_count": 78,
     "metadata": {},
     "output_type": "execute_result"
    }
   ],
   "source": [
    "a1.get_area()"
   ]
  },
  {
   "cell_type": "markdown",
   "metadata": {},
   "source": [
    "***Q.1.2 Implement a function longestWord() that takes a list of words and returns the longest one.***"
   ]
  },
  {
   "cell_type": "code",
   "execution_count": 97,
   "metadata": {},
   "outputs": [],
   "source": [
    "word_list = ['Python','Prerequisite','Assignment','Comprehension']\n",
    "def longestWord(word_list):\n",
    "    string_len = []\n",
    "    for word in (word_list):\n",
    "        string_len.append((len(word),word))\n",
    "    print(string_len)\n",
    "    return f'Longest word inthe given list is: {word_list[string_len.index(max(string_len))]} of length {max(string_len)[0]}'"
   ]
  },
  {
   "cell_type": "code",
   "execution_count": 98,
   "metadata": {},
   "outputs": [
    {
     "name": "stdout",
     "output_type": "stream",
     "text": [
      "[(6, 'Python'), (12, 'Prerequisite'), (10, 'Assignment'), (13, 'Comprehension')]\n"
     ]
    },
    {
     "data": {
      "text/plain": [
       "'Longest word inthe given list is: Comprehension of length 13'"
      ]
     },
     "execution_count": 98,
     "metadata": {},
     "output_type": "execute_result"
    }
   ],
   "source": [
    "longestWord(word_list)"
   ]
  },
  {
   "cell_type": "markdown",
   "metadata": {},
   "source": [
    "**Q.6 Write a function filter_long_words() that takes a list of words and an integer n and returns the list\n",
    "of words that are longer than n.**"
   ]
  },
  {
   "cell_type": "code",
   "execution_count": 6,
   "metadata": {},
   "outputs": [
    {
     "data": {
      "text/plain": [
       "['rakesh', 'kumar', 'kuwar', 'cdefg']"
      ]
     },
     "execution_count": 6,
     "metadata": {},
     "output_type": "execute_result"
    }
   ],
   "source": [
    "def filter_long_words(word_list,n):\n",
    "    words = []\n",
    "    for word in word_list:\n",
    "        if len(word) > n:\n",
    "            words.append(word)            \n",
    "    return words\n",
    "\n",
    "filter_long_words(['rakesh','kumar','kuwar','ab','cdefg'],3)"
   ]
  },
  {
   "cell_type": "markdown",
   "metadata": {},
   "source": [
    "***Q.2.1 Write a Python program using function concept that maps list of words into a list of integers\n",
    "representing the lengths of the corresponding words.***\n",
    "    \n",
    "    Hint: If a list [ ab,cde,erty] is passed on to the python function output should come as [2,3,4]\n",
    "    Here 2,3 and 4 are the lengths of the words in the list."
   ]
  },
  {
   "cell_type": "code",
   "execution_count": 1,
   "metadata": {},
   "outputs": [],
   "source": [
    "def len_count(num_list):\n",
    "    count = []\n",
    "    for num in num_list:\n",
    "        count.append(len(num))\n",
    "        \n",
    "    return count"
   ]
  },
  {
   "cell_type": "code",
   "execution_count": 2,
   "metadata": {},
   "outputs": [
    {
     "data": {
      "text/plain": [
       "[2, 3, 4]"
      ]
     },
     "execution_count": 2,
     "metadata": {},
     "output_type": "execute_result"
    }
   ],
   "source": [
    "len_count(['ab','cde','erty'])"
   ]
  },
  {
   "cell_type": "markdown",
   "metadata": {},
   "source": [
    "Method 2: Using Lambda function"
   ]
  },
  {
   "cell_type": "code",
   "execution_count": 3,
   "metadata": {},
   "outputs": [
    {
     "name": "stdout",
     "output_type": "stream",
     "text": [
      "[2, 3, 4]\n"
     ]
    }
   ],
   "source": [
    "num_list=['ab','cde','erty']\n",
    "result = map(lambda x: len(x), num_list)\n",
    "len_count = list(result)\n",
    "print(len_count)"
   ]
  },
  {
   "cell_type": "markdown",
   "metadata": {},
   "source": [
    "***Q.2.2 Write a Python function which takes a character (i.e. a string of length 1) and returns True if it is\n",
    "a vowel, False otherwise.***"
   ]
  },
  {
   "cell_type": "code",
   "execution_count": 4,
   "metadata": {},
   "outputs": [],
   "source": [
    "def check_vowel(char):\n",
    "\n",
    "    if char in (['a','e','i','o','u']):\n",
    "        print(True)\n",
    "    else:\n",
    "        print(False)"
   ]
  },
  {
   "cell_type": "code",
   "execution_count": 5,
   "metadata": {},
   "outputs": [
    {
     "name": "stdout",
     "output_type": "stream",
     "text": [
      "False\n"
     ]
    }
   ],
   "source": [
    "check_vowel('r')"
   ]
  },
  {
   "cell_type": "markdown",
   "metadata": {},
   "source": [
    "## Great job!"
   ]
  },
  {
   "cell_type": "code",
   "execution_count": null,
   "metadata": {},
   "outputs": [],
   "source": []
  }
 ],
 "metadata": {
  "kernelspec": {
   "display_name": "Python 3",
   "language": "python",
   "name": "python3"
  },
  "language_info": {
   "codemirror_mode": {
    "name": "ipython",
    "version": 3
   },
   "file_extension": ".py",
   "mimetype": "text/x-python",
   "name": "python",
   "nbconvert_exporter": "python",
   "pygments_lexer": "ipython3",
   "version": "3.7.4"
  }
 },
 "nbformat": 4,
 "nbformat_minor": 2
}
